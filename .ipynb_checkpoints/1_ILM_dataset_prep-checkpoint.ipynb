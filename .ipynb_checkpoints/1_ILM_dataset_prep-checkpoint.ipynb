{
 "cells": [
  {
   "cell_type": "markdown",
   "id": "f4f6b7aa",
   "metadata": {},
   "source": [
    "This notebook creates the dataset that we use to train an ILM model to explain positive predictions of a toxicity classifier. The datasets we chose are for the toxic/abusive language detection task, close to each other in their task definition and from a variety of different sources. "
   ]
  },
  {
   "cell_type": "code",
   "execution_count": 1,
   "id": "075cd040",
   "metadata": {},
   "outputs": [],
   "source": [
    "import pandas as pd\n",
    "from sklearn.model_selection import train_test_split\n",
    "pd.set_option('display.max_colwidth', None)\n",
    "#import preprocessor\n",
    "import pickle\n",
    "import wordsegment as ws\n",
    "from html import unescape\n",
    "import re\n",
    "import string\n",
    "ws.load() # load vocab for word segmentation\n",
    "\n",
    "random_seed = 42\n",
    "\n",
    "# Cleaning functions from hatecheck-experiments\n",
    "# Define helper function for segmenting hashtags found through regex\n",
    "def regex_match_segmentation(match):\n",
    "    return ' '.join(ws.segment(match.group(0)))\n",
    "\n",
    "# Define function for cleaning text\n",
    "def clean_text(text):\n",
    "    \n",
    "    # convert HTML codes\n",
    "    text = unescape(text)\n",
    "    \n",
    "    # lowercase text\n",
    "    text = text.lower()\n",
    "    \n",
    "    # replace mentions, URLs and emojis with special token\n",
    "    text = re.sub(r\"@[A-Za-z0-9_-]+\",'[USER]',text)\n",
    "    text = re.sub(r\"u/[A-Za-z0-9_-]+\",'[USER]',text)\n",
    "    text = re.sub(r\"http\\S+\",'[URL]',text)\n",
    "    \n",
    "    # find and split hashtags into words\n",
    "    text = re.sub(r\"#[A-Za-z0-9]+\", regex_match_segmentation, text)\n",
    "\n",
    "    # remove punctuation at beginning of string (quirk in Davidson data)\n",
    "    text = text.lstrip(\"!\")\n",
    "    text = text.lstrip(\":\")\n",
    "    \n",
    "    # remove newline and tab characters\n",
    "    text = text.replace('\\n',' ')\n",
    "    text = text.replace('\\t',' ')\n",
    "    text = text.replace('[linebreak]', ' ')\n",
    "    \n",
    "    return text"
   ]
  },
  {
   "cell_type": "markdown",
   "id": "3ab0073f",
   "metadata": {},
   "source": [
    "## Founta"
   ]
  },
  {
   "cell_type": "markdown",
   "id": "0e6e5bf5",
   "metadata": {},
   "source": [
    "The first dataset we consider is from [Founta et al. 2018](https://arxiv.org/pdf/1802.00393.pdf), which is a dataset sampled from Twitter. We split this into train, valid and test sets here, and only use the neutral tweets in the train split to train the ILM. We will use the same splits later when training a BERT classifier. "
   ]
  },
  {
   "cell_type": "code",
   "execution_count": null,
   "id": "db9d82ba",
   "metadata": {},
   "outputs": [],
   "source": [
    "df_texts = pd.read_csv(\"../Founta/hatespeech_text_label_vote.csv\",names=['text', 'label', 'count_label_votes'], delimiter='\\t')\n",
    "df_texts.drop_duplicates(subset='text', inplace=True)\n",
    "founta_train, founta_valtest = train_test_split(df_texts, test_size=0.2, stratify=df_texts.label, random_state=123)\n",
    "founta_val, founta_test = train_test_split(founta_valtest, test_size=0.5, stratify=founta_valtest.label, random_state=123)\n",
    "founta_train_neutral = founta_train[founta_train['label'] == 'normal']\n",
    "\n",
    "founta_train.to_csv(\"Data/Founta/train.csv\")\n",
    "founta_val.to_csv(\"Data/Founta/valid.csv\")\n",
    "founta_test.to_csv(\"Data/Founta/test.csv\")\n",
    "\n",
    "founta_train_neutral[:10]"
   ]
  },
  {
   "cell_type": "markdown",
   "id": "e454c011",
   "metadata": {},
   "source": [
    "## CAD\n",
    "\n",
    "Next, we get the neutral posts from the CAD dataset, introduced in [Vigden et al. 2021](https://aclanthology.org/2021.naacl-main.182.pdf) and can be obtained from [here](https://zenodo.org/record/4881008#.YnvpkvPMK3I). This dataset is sourced from Reddit, and posts are annotated with hierarchical labels, and within their context. For our task we only keep the posts with the Neutral label. "
   ]
  },
  {
   "cell_type": "code",
   "execution_count": 5,
   "id": "07bce221",
   "metadata": {},
   "outputs": [
    {
     "data": {
      "text/html": [
       "<div>\n",
       "<style scoped>\n",
       "    .dataframe tbody tr th:only-of-type {\n",
       "        vertical-align: middle;\n",
       "    }\n",
       "\n",
       "    .dataframe tbody tr th {\n",
       "        vertical-align: top;\n",
       "    }\n",
       "\n",
       "    .dataframe thead th {\n",
       "        text-align: right;\n",
       "    }\n",
       "</style>\n",
       "<table border=\"1\" class=\"dataframe\">\n",
       "  <thead>\n",
       "    <tr style=\"text-align: right;\">\n",
       "      <th></th>\n",
       "      <th>id</th>\n",
       "      <th>text</th>\n",
       "      <th>labels</th>\n",
       "    </tr>\n",
       "  </thead>\n",
       "  <tbody>\n",
       "    <tr>\n",
       "      <th>0</th>\n",
       "      <td>an4gkh-post</td>\n",
       "      <td>I just got laid off. I don't even know what to think, feel, say, do. I've worked for this company for over a year and I got a promotion a few months back and for the first time in a long time i was feeling amazing, not just with my job, but my mental health was the best it has been in a long time and for it to just.. disappear and get that rug pulled from under me so suddenly is just... i dont know. The only word that explains what i feel this exact second is just \"Numbing\". I just feel numb with this whole situation. I already cried, felt sorry for myself, vented with my SO. Now I got home, and im just sitting in my couch writing this and I just feel. Numb. [linebreak]  [linebreak] Sorry for the grammar. Im not thinking, just, venting it out to get it out of my system.</td>\n",
       "      <td>Neutral</td>\n",
       "    </tr>\n",
       "    <tr>\n",
       "      <th>1</th>\n",
       "      <td>anmla4-post</td>\n",
       "      <td>My best friend, who I grew up with and had a HUGE crush on, and I began talking again after almost 10 years. Back in the day it was the fantasy childhood sweet hearts. We were two peas in a pod and loved being around eachother. Well fast forward a few years we started being intimate. Our family eventually found out and she left me and I left home. Now 10 years later she reached out to me out of the blue and we started talking. Side note, 2018 as a whole was the worst year of my life. When I say the whole year, every month, every day was emotionally and physically taxing to a degree where my hair is literally thining and  falling out I mean it(my hair used to be thick and healthy).  [linebreak]  [linebreak] So we start talking and it feels as though no time has passed at all. Its great! I cant believe she is talking to me again. But in my gut I know its just a rebound text(my mom told me she recent broke up with a 2yr relationship). Well she isnt doing to well either and she tries to kill herself so I call out of work for a whole week and I am across the whole country the next day to see her in the hospital. She is finally released and we have an amazing week together! Doing everything, always laughing and just enjoying eachothers company. But theres an issue, she constantly lied to me, about stupid stuff. She is a terrible liar but I never called her out. Even her mom told me she was sleeping with multiple people and when I asked she lied about her previous relationship even though she brought that up. There were so many red flags that I ignored, so many times she made herself to he victim to everything and I knew was trying to get me to feel sorry for her, and I ignored them all because I wanted to support her. On the last night we are snuggled up in her bed as we did everynight and she keeps pulling me on top of her to just \"get closer\" as she says (yeah okay). We start kissing and I ask over and over if its what she wants (i dont want to have sex but i wanted her to be happy and she seemed to really want to) and you can guess what happened. Well I drive home that night and cry all the way home because I know I was just used.  [linebreak]  [linebreak] Over the next couple weeks she slowly talks to me less and less and barely wants to see me after I move back home after almost 10 years away. I finally call her and confront her and she tells me nothing has changed and hasnt talked to me since.  [linebreak]  [linebreak] I am so disgusted with myself for being so easy and ignoring all the signs that she was manipualting me. I cant even look at her because she isnt even the same person she used to be and it hurts so much. Not a single apology or an attempt to say anything from her. I dont know why she used me and I am so broken up about it. I told her all the shit that went down even about me losing my daughter that year (2018) and she still did this. Idk what to do. I want peace but she wont talk to me anymore.  [linebreak]  [linebreak] P.S. There were so many more flags and signs i ignored from family and friends but this post is long enough. [linebreak]  [linebreak] TL;DR:  My best friend/sweet heart from child hood called me up after 10 years. She was struggling so I went to help her out. My time with her was great but there were alot of red flags I ignored. I didnt want to sleep with her but she kept pushing so I did then she started to distance herself from me. I feel so used and disgusted with myself and I dont know why she did it.</td>\n",
       "      <td>Neutral</td>\n",
       "    </tr>\n",
       "    <tr>\n",
       "      <th>2</th>\n",
       "      <td>aobe00-post</td>\n",
       "      <td>Today wasn't terrible.  I suppose that would hinge on your definition of terrible.  At any rate, I happened upon an article.  Ronda Rousey is helping set up a suicide prevention center or something.  Something like that.  As I read through the article, I came to learn that her father and grandfather committed suicide. [linebreak]  [linebreak] I appreciate the kind thought and I don't believe you meant to get me going, but you got me going. [linebreak]  [linebreak] How stupid do you think I am?  Do you think I don't fucking realize how goddamn horrible suicide is?  Do you think that I'm some naive apelike simpleton that needs to be sent to a mental hospital for therapy, medication and other costly 'treatments'? [linebreak]  [linebreak] It's nice to know that you care about other suicidal people, but for me, I don't take too kindly to being told that I don't have the right to commit suicide.  I don't take kindly to platitudes and appeals to my emotions when I am already fully cognizant of the horrors of suicide. [linebreak]  [linebreak] Why is it that when I get to be a little too lonely and desperate, the *first* thing you're going to tell me is \"Get help.\"?  What do you think this help is going to give me that I haven't already experienced?  It'll give me more goddamn bills and I'll get somebody on the phone asking me if I want to sign up for cognitive behavioral therapy. [linebreak]  [linebreak] I know how to fight this.  The reason that I'm sitting here typing this is all the proof I need. [linebreak]  [linebreak] When I see these anti-suicide things, I just feel so irked.  The only time you give a fuck about me is when I'm in a suicidal mindset.  Beside that, I'm just a blank face.  A mere statistic. [linebreak]  [linebreak] Believe me.  Seriously.  Believe me.  I'm not yanking your chain.  I know how bad suicide is.  You don't need to remind me of that. [linebreak]  [linebreak] I can't stop you from trying to prevent suicide, but I can state my opinion and so, I have. [linebreak]  [linebreak]</td>\n",
       "      <td>Neutral</td>\n",
       "    </tr>\n",
       "  </tbody>\n",
       "</table>\n",
       "</div>"
      ],
      "text/plain": [
       "            id  \\\n",
       "0  an4gkh-post   \n",
       "1  anmla4-post   \n",
       "2  aobe00-post   \n",
       "\n",
       "                                                                                                                                                                                                                                                                                                                                                                                                                                                                                                                                                                                                                                                                                                                                                                                                                                                                                                                                                                                                                                                                                                                                                                                                                                                                                                                                                                                                                                                                                                                                                                                                                                                                                                                                                                                                                                                                                                                                                                                                                                                                                                                                                                                                                                                                                                                                                                                                                                                                                                                                                                                                                                                                                                                                                                                                                                                                                                                                                                                                                                                                                                                                                                                                                                                                                                                                                                                                                                                                                                                                                                                                                                          text  \\\n",
       "0                                                                                                                                                                                                                                                                                                                                                                                                                                                                                                                                                                                                                                                                                                                                                                                                                                                                                                                                                                                                                                                                                                                                                                                                                                                                                                                                                                                                                                                                                                                                                                                                                                                                                                                                                                                                                                                                                                                                                                                                                                                                                                                                                                                                                                                                                                                                                                                                                                                                                                                                                                                                                                                                                                                                                                                                                                 I just got laid off. I don't even know what to think, feel, say, do. I've worked for this company for over a year and I got a promotion a few months back and for the first time in a long time i was feeling amazing, not just with my job, but my mental health was the best it has been in a long time and for it to just.. disappear and get that rug pulled from under me so suddenly is just... i dont know. The only word that explains what i feel this exact second is just \"Numbing\". I just feel numb with this whole situation. I already cried, felt sorry for myself, vented with my SO. Now I got home, and im just sitting in my couch writing this and I just feel. Numb. [linebreak]  [linebreak] Sorry for the grammar. Im not thinking, just, venting it out to get it out of my system.   \n",
       "1  My best friend, who I grew up with and had a HUGE crush on, and I began talking again after almost 10 years. Back in the day it was the fantasy childhood sweet hearts. We were two peas in a pod and loved being around eachother. Well fast forward a few years we started being intimate. Our family eventually found out and she left me and I left home. Now 10 years later she reached out to me out of the blue and we started talking. Side note, 2018 as a whole was the worst year of my life. When I say the whole year, every month, every day was emotionally and physically taxing to a degree where my hair is literally thining and  falling out I mean it(my hair used to be thick and healthy).  [linebreak]  [linebreak] So we start talking and it feels as though no time has passed at all. Its great! I cant believe she is talking to me again. But in my gut I know its just a rebound text(my mom told me she recent broke up with a 2yr relationship). Well she isnt doing to well either and she tries to kill herself so I call out of work for a whole week and I am across the whole country the next day to see her in the hospital. She is finally released and we have an amazing week together! Doing everything, always laughing and just enjoying eachothers company. But theres an issue, she constantly lied to me, about stupid stuff. She is a terrible liar but I never called her out. Even her mom told me she was sleeping with multiple people and when I asked she lied about her previous relationship even though she brought that up. There were so many red flags that I ignored, so many times she made herself to he victim to everything and I knew was trying to get me to feel sorry for her, and I ignored them all because I wanted to support her. On the last night we are snuggled up in her bed as we did everynight and she keeps pulling me on top of her to just \"get closer\" as she says (yeah okay). We start kissing and I ask over and over if its what she wants (i dont want to have sex but i wanted her to be happy and she seemed to really want to) and you can guess what happened. Well I drive home that night and cry all the way home because I know I was just used.  [linebreak]  [linebreak] Over the next couple weeks she slowly talks to me less and less and barely wants to see me after I move back home after almost 10 years away. I finally call her and confront her and she tells me nothing has changed and hasnt talked to me since.  [linebreak]  [linebreak] I am so disgusted with myself for being so easy and ignoring all the signs that she was manipualting me. I cant even look at her because she isnt even the same person she used to be and it hurts so much. Not a single apology or an attempt to say anything from her. I dont know why she used me and I am so broken up about it. I told her all the shit that went down even about me losing my daughter that year (2018) and she still did this. Idk what to do. I want peace but she wont talk to me anymore.  [linebreak]  [linebreak] P.S. There were so many more flags and signs i ignored from family and friends but this post is long enough. [linebreak]  [linebreak] TL;DR:  My best friend/sweet heart from child hood called me up after 10 years. She was struggling so I went to help her out. My time with her was great but there were alot of red flags I ignored. I didnt want to sleep with her but she kept pushing so I did then she started to distance herself from me. I feel so used and disgusted with myself and I dont know why she did it.   \n",
       "2                                                                                                                                                                                                                                                                                                                                                                                                                                                                                                                                                                                                                                                                                                                                                                                                                                                                                                                                                                                                                                                                                                                                                                                                                                                                                                                                                                                                                                                                                                                              Today wasn't terrible.  I suppose that would hinge on your definition of terrible.  At any rate, I happened upon an article.  Ronda Rousey is helping set up a suicide prevention center or something.  Something like that.  As I read through the article, I came to learn that her father and grandfather committed suicide. [linebreak]  [linebreak] I appreciate the kind thought and I don't believe you meant to get me going, but you got me going. [linebreak]  [linebreak] How stupid do you think I am?  Do you think I don't fucking realize how goddamn horrible suicide is?  Do you think that I'm some naive apelike simpleton that needs to be sent to a mental hospital for therapy, medication and other costly 'treatments'? [linebreak]  [linebreak] It's nice to know that you care about other suicidal people, but for me, I don't take too kindly to being told that I don't have the right to commit suicide.  I don't take kindly to platitudes and appeals to my emotions when I am already fully cognizant of the horrors of suicide. [linebreak]  [linebreak] Why is it that when I get to be a little too lonely and desperate, the *first* thing you're going to tell me is \"Get help.\"?  What do you think this help is going to give me that I haven't already experienced?  It'll give me more goddamn bills and I'll get somebody on the phone asking me if I want to sign up for cognitive behavioral therapy. [linebreak]  [linebreak] I know how to fight this.  The reason that I'm sitting here typing this is all the proof I need. [linebreak]  [linebreak] When I see these anti-suicide things, I just feel so irked.  The only time you give a fuck about me is when I'm in a suicidal mindset.  Beside that, I'm just a blank face.  A mere statistic. [linebreak]  [linebreak] Believe me.  Seriously.  Believe me.  I'm not yanking your chain.  I know how bad suicide is.  You don't need to remind me of that. [linebreak]  [linebreak] I can't stop you from trying to prevent suicide, but I can state my opinion and so, I have. [linebreak]  [linebreak]   \n",
       "\n",
       "    labels  \n",
       "0  Neutral  \n",
       "1  Neutral  \n",
       "2  Neutral  "
      ]
     },
     "execution_count": 5,
     "metadata": {},
     "output_type": "execute_result"
    }
   ],
   "source": [
    "cad_train = pd.read_csv(\"../cad_naacl2021/data/cad_v1_1_train.tsv\", sep=\"\\t\")\n",
    "cad_train_neutral = cad_train[cad_train.labels == 'Neutral']\n",
    "cad_train_neutral[:3]"
   ]
  },
  {
   "cell_type": "markdown",
   "id": "568a5406",
   "metadata": {},
   "source": [
    "## Wikipedia Toxicity\n",
    "\n",
    "The next dataset we use is the Wikipedia Toxicity dataset from [Wulczyn et al. 2017](https://arxiv.org/abs/1610.08914), which can be downloaded [here](https://figshare.com/articles/dataset/Wikipedia_Talk_Labels_Toxicity/4563973). As shown in [Nejadgholi and Kiritchenko 2020](https://aclanthology.org/2020.alw-1.20.pdf), the neutral class for this dataset is dominated by Wikipedia specific topics such as edits and formatting. We use the topic clusters found in this work to remove these domain specific instances from the training set before sampling."
   ]
  },
  {
   "cell_type": "code",
   "execution_count": 7,
   "id": "fa2cb801",
   "metadata": {},
   "outputs": [
    {
     "name": "stderr",
     "output_type": "stream",
     "text": [
      "/var/folders/qy/phdcww3n48q813kb9rwl_6z80000gn/T/ipykernel_35253/2678769862.py:21: UserWarning: Boolean Series key will be reindexed to match DataFrame index.\n",
      "  toxic_train_pruned = data[data['split']=='train' ][data['wiki_topic'].isin(topic_categories[1]+topic_categories[2])]\n"
     ]
    }
   ],
   "source": [
    "comments = pd.read_csv('../cross_dataset_toxicity/toxicity_annotated_comments.tsv', sep = '\\t', index_col = 0)  #from https://figshare.com/articles/dataset/Wikipedia_Talk_Labels_Toxicity/4563973\n",
    "annotations = pd.read_csv('../cross_dataset_toxicity/toxicity_annotations.tsv',  sep = '\\t')\n",
    "# join labels and comments\n",
    "comments['toxicity'] = annotations.groupby('rev_id')['toxicity'].mean() > 0.5\n",
    "\n",
    "# # remove newline and tab tokens\n",
    "comments['comment'] = comments['comment'].apply(lambda x: x.replace(\"NEWLINE_TOKEN\", \" \"))\n",
    "comments['comment'] = comments['comment'].apply(lambda x: x.replace(\"TAB_TOKEN\", \" \"))\n",
    "\n",
    "wiki_topics = pd.read_csv('../cross_dataset_toxicity/wiki_toxicity_topics.csv', index_col=[0]) #from this repo\n",
    "\n",
    "data = comments.merge(wiki_topics, on='rev_id')  #merge the two datasets\n",
    "\n",
    "#pruned Wiki-toxic \n",
    "topic_categories={1:[0,1],\n",
    "                  2:[2,7,8,9,12,14,16],\n",
    "                  3:[3,4,5,6,10,11,13,15,17,18,19]}\n",
    "\n",
    "\n",
    "toxic_train_pruned = data[data['split']=='train' ][data['wiki_topic'].isin(topic_categories[1]+topic_categories[2])]\n",
    "wiki_train_neutral = toxic_train_pruned[toxic_train_pruned.toxicity == False]"
   ]
  },
  {
   "cell_type": "code",
   "execution_count": null,
   "id": "39e5f51d",
   "metadata": {},
   "outputs": [],
   "source": [
    "wiki_train_neutral[:3]"
   ]
  },
  {
   "cell_type": "markdown",
   "id": "792215e0",
   "metadata": {},
   "source": [
    "## Civil Comments\n",
    "\n",
    "Next, we get the civil_comments from [kaggle](https://www.kaggle.com/c/jigsaw-unintended-bias-in-toxicity-classification/data). This dataset consists of comments made on a number of\n",
    "news platforms, within the years 2015-2017, and later annotated by Jigsaw. For picking neutral comments, we pick the comments where the target is 0. "
   ]
  },
  {
   "cell_type": "code",
   "execution_count": 8,
   "id": "28fa6197",
   "metadata": {},
   "outputs": [],
   "source": [
    "civil_comments_train = pd.read_csv('../civil_comments/train.csv')\n",
    "civil_comments_neutral = civil_comments_train[(civil_comments_train['target'] < 0.0001)]"
   ]
  },
  {
   "cell_type": "markdown",
   "id": "82ae8122",
   "metadata": {},
   "source": [
    "## Putting it all together"
   ]
  },
  {
   "cell_type": "code",
   "execution_count": 9,
   "id": "c2547e55",
   "metadata": {},
   "outputs": [
    {
     "data": {
      "text/plain": [
       "42588"
      ]
     },
     "execution_count": 9,
     "metadata": {},
     "output_type": "execute_result"
    }
   ],
   "source": [
    "# comparing the sizes of different datasets\n",
    "len(founta_train_neutral)"
   ]
  },
  {
   "cell_type": "code",
   "execution_count": 10,
   "id": "58f80ff5",
   "metadata": {},
   "outputs": [
    {
     "data": {
      "text/plain": [
       "11073"
      ]
     },
     "execution_count": 10,
     "metadata": {},
     "output_type": "execute_result"
    }
   ],
   "source": [
    "cad_train_neutral.shape[0]"
   ]
  },
  {
   "cell_type": "code",
   "execution_count": 11,
   "id": "3afbfa47",
   "metadata": {},
   "outputs": [
    {
     "data": {
      "text/plain": [
       "36121"
      ]
     },
     "execution_count": 11,
     "metadata": {},
     "output_type": "execute_result"
    }
   ],
   "source": [
    "wiki_train_neutral.shape[0]"
   ]
  },
  {
   "cell_type": "code",
   "execution_count": 12,
   "id": "3ff0b62a",
   "metadata": {},
   "outputs": [
    {
     "data": {
      "text/plain": [
       "1264764"
      ]
     },
     "execution_count": 12,
     "metadata": {},
     "output_type": "execute_result"
    }
   ],
   "source": [
    "civil_comments_neutral.shape[0]"
   ]
  },
  {
   "cell_type": "code",
   "execution_count": 13,
   "id": "6cda683b",
   "metadata": {},
   "outputs": [
    {
     "data": {
      "text/plain": [
       "(30000, 45)"
      ]
     },
     "execution_count": 13,
     "metadata": {},
     "output_type": "execute_result"
    }
   ],
   "source": [
    "# sample 30K comments from civil_comments, and take others as is. \n",
    "civil_comments_sampled = civil_comments_neutral.sample(n=30000, random_state=random_seed)\n",
    "civil_comments_sampled.shape"
   ]
  },
  {
   "cell_type": "code",
   "execution_count": 14,
   "id": "21670905",
   "metadata": {},
   "outputs": [],
   "source": [
    "civil_comments_sampled['comment_text'] = civil_comments_sampled['comment_text']"
   ]
  },
  {
   "cell_type": "code",
   "execution_count": 15,
   "id": "3e29ae66",
   "metadata": {},
   "outputs": [],
   "source": [
    "founta_texts = [clean_text(tt) for tt in founta_train_neutral['text'].tolist()]\n",
    "cad_texts = [clean_text(tt) for tt in cad_train_neutral['text'].tolist()]\n",
    "wiki_texts = [clean_text(tt) for tt in wiki_train_neutral['comment'].tolist()]\n",
    "civil_texts = [clean_text(tt) for tt in civil_comments_sampled['comment_text'].tolist()]"
   ]
  },
  {
   "cell_type": "markdown",
   "id": "29253781",
   "metadata": {},
   "source": [
    "We divide the texts again to train valid and test splits for the ILM training."
   ]
  },
  {
   "cell_type": "code",
   "execution_count": 16,
   "id": "d877b37c",
   "metadata": {},
   "outputs": [],
   "source": [
    "from sklearn.model_selection import train_test_split\n",
    "from random import Random\n",
    "\n",
    "founta_train, founta_valid = train_test_split(founta_texts, test_size=0.05, random_state=random_seed+1)\n",
    "cad_train, cad_valid = train_test_split(cad_texts, test_size=0.05, random_state=random_seed+2)\n",
    "wiki_train, wiki_valid = train_test_split(wiki_texts, test_size=0.05, random_state=random_seed+3)\n",
    "civil_train, civil_valid = train_test_split(wiki_texts, test_size=0.05, random_state=random_seed+4)"
   ]
  },
  {
   "cell_type": "code",
   "execution_count": 17,
   "id": "4c394f95",
   "metadata": {},
   "outputs": [],
   "source": [
    "compound_train = founta_train + cad_train + wiki_train + civil_train\n",
    "compound_valid = founta_valid + cad_valid + wiki_valid + civil_valid\n",
    "Random(random_seed+5).shuffle(compound_train)\n",
    "Random(random_seed+6).shuffle(compound_valid)"
   ]
  },
  {
   "cell_type": "code",
   "execution_count": 18,
   "id": "c4f253ac",
   "metadata": {},
   "outputs": [],
   "source": [
    "with open(\"Data/ILM/compound_dataset/train.txt\", \"w\") as ff:\n",
    "    ff.write(\"\\n\\n\\n\".join(compound_train))\n",
    "    \n",
    "with open(\"Data/ILM/compound_dataset/valid.txt\", \"w\") as ff:\n",
    "    ff.write(\"\\n\\n\\n\".join(compound_valid))"
   ]
  },
  {
   "cell_type": "code",
   "execution_count": null,
   "id": "4dd87ff5",
   "metadata": {},
   "outputs": [],
   "source": []
  }
 ],
 "metadata": {
  "kernelspec": {
   "display_name": "Python 3 (ipykernel)",
   "language": "python",
   "name": "python3"
  },
  "language_info": {
   "codemirror_mode": {
    "name": "ipython",
    "version": 3
   },
   "file_extension": ".py",
   "mimetype": "text/x-python",
   "name": "python",
   "nbconvert_exporter": "python",
   "pygments_lexer": "ipython3",
   "version": "3.9.7"
  }
 },
 "nbformat": 4,
 "nbformat_minor": 5
}
