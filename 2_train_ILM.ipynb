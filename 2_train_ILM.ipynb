{
 "cells": [
  {
   "cell_type": "markdown",
   "id": "b59e7dbd",
   "metadata": {},
   "source": [
    "The code for ILM is included in this repository, but the original and the setup instructions can be found [here](https://github.com/chrisdonahue/ilm). Before we can train the model, the compound dataset that we've created in the previous notebook needs be preprocessed: "
   ]
  },
  {
   "cell_type": "code",
   "execution_count": null,
   "id": "86dca852",
   "metadata": {},
   "outputs": [],
   "source": [
    "!cd ilm\n",
    "!sh create_compound_dataset.sh"
   ]
  },
  {
   "cell_type": "markdown",
   "id": "0d8a3891",
   "metadata": {},
   "source": [
    "Then, we can run the training:"
   ]
  },
  {
   "cell_type": "code",
   "execution_count": null,
   "id": "55c7fee4",
   "metadata": {},
   "outputs": [],
   "source": [
    "%%bash\n",
    "DATASET=compound_dataset\n",
    "TRAIN_DIR=../Models/ILM\n",
    "EXAMPLES_DIR=data/char_masks/${DATASET}\n",
    "python train_ilm.py \\\n",
    "\texperiment_${DATASET} \\\n",
    "\t${TRAIN_DIR} \\\n",
    "\t${EXAMPLES_DIR} \\\n",
    "\t--train_examples_tag train \\\n",
    "\t--eval_examples_tag valid \\\n",
    "\t--train_num_epochs 4 \\\n",
    "\t--eval_max_num_examples 512"
   ]
  }
 ],
 "metadata": {
  "kernelspec": {
   "display_name": "Python 3 (ipykernel)",
   "language": "python",
   "name": "python3"
  },
  "language_info": {
   "codemirror_mode": {
    "name": "ipython",
    "version": 3
   },
   "file_extension": ".py",
   "mimetype": "text/x-python",
   "name": "python",
   "nbconvert_exporter": "python",
   "pygments_lexer": "ipython3",
   "version": "3.9.7"
  }
 },
 "nbformat": 4,
 "nbformat_minor": 5
}
